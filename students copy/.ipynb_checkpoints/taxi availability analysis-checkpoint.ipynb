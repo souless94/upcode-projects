{
 "cells": [
  {
   "cell_type": "markdown",
   "metadata": {},
   "source": [
    "# Taxi Availability Predictor"
   ]
  },
  {
   "cell_type": "markdown",
   "metadata": {},
   "source": [
    "For this exercise, we will be trying to predict the percentage amount of available taxis on the road based on the data from the same period of time last year."
   ]
  },
  {
   "cell_type": "markdown",
   "metadata": {},
   "source": [
    "In other words, the predictor should be just `number_of_available_taxis_in_the_same_period_last_year`/`total_number_of_available_taxis`"
   ]
  },
  {
   "cell_type": "markdown",
   "metadata": {},
   "source": [
    "For this project, we have a folder of data based off last year's data set. Going into the `taxi availability data` folder, we will see two types of files:\n",
    "1. A series of csv datasets with the timestamp from last year. e.g. `2017-12-09.csv`\n",
    "2. A single public-transport-capacity-monthly-taxi-population.csv which gives us the full number of taxis owned by operators."
   ]
  },
  {
   "cell_type": "markdown",
   "metadata": {},
   "source": [
    "We going to make an assumption that the prediction which we make is going to heavily rely on the previous data of the __same__ period as last year."
   ]
  },
  {
   "cell_type": "markdown",
   "metadata": {},
   "source": [
    "## Analysing Datasets for Number of Available Taxis"
   ]
  },
  {
   "cell_type": "markdown",
   "metadata": {},
   "source": [
    "First, let's try to read in a data set first to understand our results better! We shall try to read in `2017-12-09 Saturday.csv` which is the same Saturday as today last year."
   ]
  },
  {
   "cell_type": "code",
   "execution_count": null,
   "metadata": {},
   "outputs": [],
   "source": []
  },
  {
   "cell_type": "markdown",
   "metadata": {},
   "source": [
    "The data that we are working on is all real! They are retrieved from `data.gov.sg`. Specifically at https://data.gov.sg/dataset/taxi-availability."
   ]
  },
  {
   "cell_type": "markdown",
   "metadata": {},
   "source": [
    "Notice that the data on the web page is not in a csv format! These data are in a weird `json` format, requested using `API` calls. For now, no worries about all these, the main part to note is that most datasets are retrieved with the use of an `API` call. It's beyond the scope of our Data Science Introduction course, but understand that at a basic level, most data set will already be retrieved by senior programmers in Data Science team and passed over to us as junior Data Scientists in the `csv` format."
   ]
  },
  {
   "cell_type": "markdown",
   "metadata": {},
   "source": [
    "Similarly, this `2017-12-09 Saturday.csv` file has already been retrieved and treated for the use of this exercise. The results of the `API` call is stored in two columns.\n",
    "1. Timestamp: which is the time of the data set\n",
    "2. Available Taxis: the number of operating taxis on the road."
   ]
  },
  {
   "cell_type": "markdown",
   "metadata": {},
   "source": [
    "We can also visualise the data set to see it better."
   ]
  },
  {
   "cell_type": "code",
   "execution_count": null,
   "metadata": {},
   "outputs": [],
   "source": []
  },
  {
   "cell_type": "markdown",
   "metadata": {},
   "source": [
    "In our predictor, we will have to pass in the nearest hour to get the number of available taxis in the same period last year. Remember that we only have data sets in this case from `2017-12-04` to `2017-12-10`."
   ]
  },
  {
   "cell_type": "markdown",
   "metadata": {},
   "source": [
    "Let us try to express it as a function, which reads a csv file on the fly based on the date and hour, and return us the number of available taxis."
   ]
  },
  {
   "cell_type": "code",
   "execution_count": null,
   "metadata": {},
   "outputs": [],
   "source": []
  },
  {
   "cell_type": "markdown",
   "metadata": {},
   "source": [
    "Let's try also for the date of 2017-12-06, wednesday, at 3pm."
   ]
  },
  {
   "cell_type": "code",
   "execution_count": null,
   "metadata": {},
   "outputs": [],
   "source": []
  },
  {
   "cell_type": "markdown",
   "metadata": {},
   "source": [
    "## Analysing Total Number of Taxis"
   ]
  },
  {
   "cell_type": "markdown",
   "metadata": {},
   "source": [
    "Next, let's analyse the data set for total number of taxis, namely `public-transport-capacity-monthly-taxi-population.csv`"
   ]
  },
  {
   "cell_type": "code",
   "execution_count": null,
   "metadata": {},
   "outputs": [],
   "source": []
  },
  {
   "cell_type": "markdown",
   "metadata": {},
   "source": [
    "Notice, that this data set is not as straight forward as it is. The number of taxis that we have is very disparate, it's first separated by the individual company, then also broken down by the month."
   ]
  },
  {
   "cell_type": "markdown",
   "metadata": {},
   "source": [
    "We will need a way to be able to retrieve out the total number of taxis by retrieving the month of our predictor, and then summing up the number of taxis of each company. This should give us a good practise of using Pandas to query and sum up datasets! A good recap of our lesson 1."
   ]
  },
  {
   "cell_type": "code",
   "execution_count": null,
   "metadata": {},
   "outputs": [],
   "source": []
  },
  {
   "cell_type": "markdown",
   "metadata": {},
   "source": [
    "Let's try for other values, say let's see the total number of taxis for January of 2010."
   ]
  },
  {
   "cell_type": "code",
   "execution_count": null,
   "metadata": {},
   "outputs": [],
   "source": []
  },
  {
   "cell_type": "markdown",
   "metadata": {},
   "source": [
    "## Creating the Predictor"
   ]
  },
  {
   "cell_type": "markdown",
   "metadata": {},
   "source": [
    "Now, let's wrap everything we have up properly."
   ]
  },
  {
   "cell_type": "markdown",
   "metadata": {},
   "source": [
    "Let's say we need to predict the availability of taxis on 10th December, Monday, 2018 at 10pm, we will look at the number of corresponding taxis last year, divided by the total number of taxis."
   ]
  },
  {
   "cell_type": "code",
   "execution_count": null,
   "metadata": {},
   "outputs": [],
   "source": []
  },
  {
   "cell_type": "markdown",
   "metadata": {},
   "source": [
    "Another way of looking at it, it's about 12 out of every 100 taxis, which works out to you should see an average number of 100/12 = 8 or 9 occupied taxis before you get one available on the streets."
   ]
  },
  {
   "cell_type": "markdown",
   "metadata": {},
   "source": [
    "We can use the predictor to pass in for any given date range in the first week of December. Let's say Wednesday at 5pm, which is corresponds to `2017-12-06`."
   ]
  },
  {
   "cell_type": "code",
   "execution_count": null,
   "metadata": {},
   "outputs": [],
   "source": []
  }
 ],
 "metadata": {
  "kernelspec": {
   "display_name": "Python 3",
   "language": "python",
   "name": "python3"
  },
  "language_info": {
   "codemirror_mode": {
    "name": "ipython",
    "version": 3
   },
   "file_extension": ".py",
   "mimetype": "text/x-python",
   "name": "python",
   "nbconvert_exporter": "python",
   "pygments_lexer": "ipython3",
   "version": "3.6.5"
  }
 },
 "nbformat": 4,
 "nbformat_minor": 2
}
